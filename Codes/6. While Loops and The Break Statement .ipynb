{
 "cells": [
  {
   "cell_type": "markdown",
   "metadata": {},
   "source": [
    "- while loop do the same as for loop\n",
    "- is good when we don't know how many loops there are beforehands"
   ]
  },
  {
   "cell_type": "code",
   "execution_count": 1,
   "metadata": {},
   "outputs": [
    {
     "name": "stdout",
     "output_type": "stream",
     "text": [
      "10\n"
     ]
    }
   ],
   "source": [
    "total2 = 0\n",
    "\n",
    "j = 1         # while loop does not initialise the first index for j\n",
    "\n",
    "while  j < 5:   \n",
    "    total2 += j\n",
    "    j += 1\n",
    "    \n",
    "print(total2)   "
   ]
  },
  {
   "cell_type": "code",
   "execution_count": 2,
   "metadata": {},
   "outputs": [
    {
     "name": "stdout",
     "output_type": "stream",
     "text": [
      "17\n"
     ]
    }
   ],
   "source": [
    "# we only know the list is in descending order\n",
    "\n",
    "given_list = [5, 4, 4, 3, 1, -2, -3, -5]\n",
    "\n",
    "# now we compute the sum of all positive numbers in the list\n",
    "\n",
    "total3 = 0\n",
    "\n",
    "i = 0\n",
    "\n",
    "while given_list[i] > 0:    # break when this is not true\n",
    "    total3 += given_list[i]\n",
    "    i += 1 \n",
    "    \n",
    "print(total3)\n",
    "\n",
    "# this loop doesn't work if there are only positive elements in the list\n",
    "# as the last loop, i will be equal to 5 and 5th element does not exist\n",
    "# python thus cannot evaluate the while statement"
   ]
  },
  {
   "cell_type": "code",
   "execution_count": 3,
   "metadata": {},
   "outputs": [
    {
     "name": "stdout",
     "output_type": "stream",
     "text": [
      "17\n"
     ]
    }
   ],
   "source": [
    "# to fix the problem in previous cell\n",
    "\n",
    "total3 = 0\n",
    "\n",
    "i = 0\n",
    "\n",
    "while i < 5 and given_list[i] > 0: # or i < len(given_list), which is the lenght of the list\n",
    "    total3 += given_list[i]\n",
    "    i += 1 \n",
    "    \n",
    "print(total3)"
   ]
  },
  {
   "cell_type": "code",
   "execution_count": 4,
   "metadata": {},
   "outputs": [
    {
     "name": "stdout",
     "output_type": "stream",
     "text": [
      "17\n"
     ]
    }
   ],
   "source": [
    "given_list2 = [5, 4, 4, 3, 1, -2, -3, -5]\n",
    "\n",
    "total4 = 0\n",
    "\n",
    "for element in given_list2:\n",
    "    \n",
    "    if element <= 0:        # for negative element, we break the loop; not to skip; important that list is in desending order \n",
    "        break\n",
    "        \n",
    "    total4 += element\n",
    "    \n",
    "print(total4)"
   ]
  },
  {
   "cell_type": "code",
   "execution_count": 5,
   "metadata": {},
   "outputs": [
    {
     "name": "stdout",
     "output_type": "stream",
     "text": [
      "17\n"
     ]
    }
   ],
   "source": [
    "total5 = 0\n",
    "\n",
    "i = 0 \n",
    "\n",
    "while True:     # or while 1 < 2: as this is always true; we need a statement that is always true\n",
    "    total5 += given_list2[i]\n",
    "    i += 1\n",
    "    \n",
    "    if given_list2[i] <= 0:\n",
    "        break\n",
    "        \n",
    "print(total5)      \n",
    "\n",
    "    "
   ]
  },
  {
   "cell_type": "code",
   "execution_count": 6,
   "metadata": {},
   "outputs": [
    {
     "name": "stdout",
     "output_type": "stream",
     "text": [
      "-17\n"
     ]
    }
   ],
   "source": [
    "# sum up all negative numbers; assuming that length is unknown\n",
    "# we only know the list is in descending order\n",
    "\n",
    "given_list3 = [7, 5, 4, 4, 3, 1, -2, -3, -5, -7]\n",
    "\n",
    "total6 = 0\n",
    "\n",
    "j = len(given_list3) - 1\n",
    "\n",
    "while given_list3[j] < 0:\n",
    "    total6 += given_list3[j]\n",
    "    j -= 1 \n",
    "    \n",
    "print(total6)"
   ]
  }
 ],
 "metadata": {
  "kernelspec": {
   "display_name": "Python 3",
   "language": "python",
   "name": "python3"
  },
  "language_info": {
   "codemirror_mode": {
    "name": "ipython",
    "version": 3
   },
   "file_extension": ".py",
   "mimetype": "text/x-python",
   "name": "python",
   "nbconvert_exporter": "python",
   "pygments_lexer": "ipython3",
   "version": "3.5.4"
  }
 },
 "nbformat": 4,
 "nbformat_minor": 2
}
